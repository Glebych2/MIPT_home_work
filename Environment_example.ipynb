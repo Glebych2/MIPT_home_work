{
  "nbformat": 4,
  "nbformat_minor": 0,
  "metadata": {
    "colab": {
      "provenance": [],
      "collapsed_sections": [],
      "include_colab_link": true
    },
    "kernelspec": {
      "name": "python3",
      "display_name": "Python 3"
    },
    "language_info": {
      "name": "python"
    }
  },
  "cells": [
    {
      "cell_type": "markdown",
      "metadata": {
        "id": "view-in-github",
        "colab_type": "text"
      },
      "source": [
        "<a href=\"https://colab.research.google.com/github/Glebych2/MIPT_home_work/blob/main/Environment_example.ipynb\" target=\"_parent\"><img src=\"https://colab.research.google.com/assets/colab-badge.svg\" alt=\"Open In Colab\"/></a>"
      ]
    },
    {
      "cell_type": "code",
      "execution_count": 1,
      "metadata": {
        "id": "MXXTuy_o0sjk",
        "colab": {
          "base_uri": "https://localhost:8080/"
        },
        "outputId": "a2311073-d9cb-4bc5-d393-ad638a94da63"
      },
      "outputs": [
        {
          "output_type": "stream",
          "name": "stdout",
          "text": [
            "\u001b[K     |████████████████████████████████| 1.9 MB 2.1 MB/s \n",
            "\u001b[K     |████████████████████████████████| 62 kB 1.6 MB/s \n",
            "\u001b[?25h"
          ]
        }
      ],
      "source": [
        "!pip install -q -U kaggle_environments"
      ]
    },
    {
      "cell_type": "code",
      "source": [
        "%matplotlib inline\n",
        "import numpy as np\n",
        "import pandas as pd\n",
        "import random\n",
        "\n",
        "import matplotlib.pyplot as plt\n",
        "import seaborn as sns\n",
        "\n",
        "from kaggle_environments import make, evaluate\n"
      ],
      "metadata": {
        "id": "yz23vWHD0wcj"
      },
      "execution_count": 2,
      "outputs": []
    },
    {
      "cell_type": "code",
      "source": [
        "%%writefile utils.py\n",
        "\n",
        "import math\n",
        "\n",
        "\n",
        "def get_score(left_move, right_move):\n",
        "    # This method exists in this file so it can be consumed from rps.py and agents.py without a circular dependency\n",
        "    delta = (\n",
        "        right_move - left_move\n",
        "        if (left_move + right_move) % 2 == 0\n",
        "        else left_move - right_move\n",
        "    )\n",
        "    return 0 if delta == 0 else math.copysign(1, delta)"
      ],
      "metadata": {
        "id": "MLW-pV8VgeNl",
        "outputId": "06c6b73b-d4cc-4fbc-9b37-f47a181b1a22",
        "colab": {
          "base_uri": "https://localhost:8080/"
        }
      },
      "execution_count": 3,
      "outputs": [
        {
          "output_type": "stream",
          "name": "stdout",
          "text": [
            "Writing utils.py\n"
          ]
        }
      ]
    },
    {
      "cell_type": "markdown",
      "source": [
        "Опишем поведение агента, всегда играющего \"камень\" - это значение 0"
      ],
      "metadata": {
        "id": "0kuo6IOxiRub"
      }
    },
    {
      "cell_type": "code",
      "source": [
        "%%writefile rock_agent.py\n",
        "#Example of the simple agent\n",
        "#0 - rock\n",
        "#1 - paper\n",
        "#2 - scissors\n",
        "def your_agent(observation, configuration):\n",
        "    return 0"
      ],
      "metadata": {
        "id": "bqTqV7B92rJ6",
        "colab": {
          "base_uri": "https://localhost:8080/"
        },
        "outputId": "6e2722d8-dacc-4ff7-e9e0-75fa9394372d"
      },
      "execution_count": 4,
      "outputs": [
        {
          "output_type": "stream",
          "name": "stdout",
          "text": [
            "Writing rock_agent.py\n"
          ]
        }
      ]
    },
    {
      "cell_type": "markdown",
      "source": [
        "Попробуем теперь использовать информацию о прошлых действиях противника. Опишем агента, который производит то же самое действие, что и оппонент на прошлом ходу"
      ],
      "metadata": {
        "id": "et1J5hUGigeh"
      }
    },
    {
      "cell_type": "code",
      "source": [
        "%%writefile copy_opponent.py\n",
        "import random\n",
        "#Example \n",
        "def copy_opponent(observation, configuration):   \n",
        "    #in case we have information about opponent last move\n",
        "    if observation.step > 0:\n",
        "        return observation.lastOpponentAction\n",
        "    #initial step\n",
        "    else:\n",
        "        return random.randrange(0, configuration.signs)\n",
        "        #return random.randrange(0, 2)"
      ],
      "metadata": {
        "id": "7l6Ttw6qi0jk",
        "colab": {
          "base_uri": "https://localhost:8080/"
        },
        "outputId": "e81b979d-204f-4fea-aae3-19e34684cc89"
      },
      "execution_count": 5,
      "outputs": [
        {
          "output_type": "stream",
          "name": "stdout",
          "text": [
            "Writing copy_opponent.py\n"
          ]
        }
      ]
    },
    {
      "cell_type": "markdown",
      "source": [
        "Опишем поведение агента, всегда играющего \"бумага\" - это значение 1"
      ],
      "metadata": {
        "id": "UB1uuJAvJg7B"
      }
    },
    {
      "cell_type": "code",
      "source": [
        "%%writefile paper_agent.py\n",
        "#Example of the simple agent\n",
        "#0 - rock\n",
        "#1 - paper\n",
        "#2 - scissors\n",
        "def your_agent(observation, configuration):\n",
        "    return 1"
      ],
      "metadata": {
        "colab": {
          "base_uri": "https://localhost:8080/"
        },
        "id": "lIo2oEDzI9WJ",
        "outputId": "433bc38d-0f33-47e2-d85e-12d0c640972f"
      },
      "execution_count": 6,
      "outputs": [
        {
          "output_type": "stream",
          "name": "stdout",
          "text": [
            "Writing paper_agent.py\n"
          ]
        }
      ]
    },
    {
      "cell_type": "markdown",
      "source": [
        "Опишем поведение агента, всегда играющего \"ножницы\" - это значение 2"
      ],
      "metadata": {
        "id": "QOSNtbyiJ6o-"
      }
    },
    {
      "cell_type": "code",
      "source": [
        "%%writefile scissors_agent.py\n",
        "#Example of the simple agent\n",
        "#0 - rock\n",
        "#1 - paper\n",
        "#2 - scissors\n",
        "def your_agent(observation, configuration):\n",
        "    return 2"
      ],
      "metadata": {
        "colab": {
          "base_uri": "https://localhost:8080/"
        },
        "id": "xCsO8n3gJaCk",
        "outputId": "8e69aa24-30a8-42d3-d746-3dbef42607d4"
      },
      "execution_count": 7,
      "outputs": [
        {
          "output_type": "stream",
          "name": "stdout",
          "text": [
            "Writing scissors_agent.py\n"
          ]
        }
      ]
    },
    {
      "cell_type": "code",
      "source": [
        "%%writefile submission.py\n",
        "\n",
        "import random\n",
        "\n",
        "def nash_equilibrium_agent(observation, configuration):\n",
        "    return random.randint(0, 2)"
      ],
      "metadata": {
        "colab": {
          "base_uri": "https://localhost:8080/"
        },
        "id": "u8FMPVJaOjBR",
        "outputId": "4e34fedd-46de-48c1-8f8e-8cec36f7039d"
      },
      "execution_count": 8,
      "outputs": [
        {
          "output_type": "stream",
          "name": "stdout",
          "text": [
            "Writing submission.py\n"
          ]
        }
      ]
    },
    {
      "cell_type": "code",
      "source": [
        "%%writefile submission2.py\n",
        "\n",
        "import random\n",
        "\n",
        "def nash_equilibrium_agent(observation, configuration):\n",
        "    return random.randint(1, 2)"
      ],
      "metadata": {
        "colab": {
          "base_uri": "https://localhost:8080/"
        },
        "id": "inM4mvEOKLXo",
        "outputId": "b801a334-a817-4cd7-d3c2-d231d4e5dfc2"
      },
      "execution_count": 9,
      "outputs": [
        {
          "output_type": "stream",
          "name": "stdout",
          "text": [
            "Writing submission2.py\n"
          ]
        }
      ]
    },
    {
      "cell_type": "code",
      "source": [
        "%%writefile submission3.py\n",
        "\n",
        "import random\n",
        "\n",
        "def nash_equilibrium_agent(observation, configuration):\n",
        "    return random.randint(0, 1)"
      ],
      "metadata": {
        "colab": {
          "base_uri": "https://localhost:8080/"
        },
        "id": "SD1lMV3k9tfx",
        "outputId": "2e4e5788-878b-4be5-fa11-abc241538cb4"
      },
      "execution_count": 10,
      "outputs": [
        {
          "output_type": "stream",
          "name": "stdout",
          "text": [
            "Writing submission3.py\n"
          ]
        }
      ]
    },
    {
      "cell_type": "code",
      "source": [
        "%%writefile reactionary.py\n",
        "import random\n",
        "from utils import get_score\n",
        "\n",
        "last_react_action = None\n",
        "def reactionary(observation, configuration):\n",
        "    global last_react_action\n",
        "    if observation.step == 0:\n",
        "        last_react_action = random.randrange(0, configuration.signs)\n",
        "    elif get_score(last_react_action, observation.lastOpponentAction) <= 1:\n",
        "        last_react_action = (observation.lastOpponentAction + 1) % configuration.signs\n",
        "\n",
        "    return last_react_action\n"
      ],
      "metadata": {
        "colab": {
          "base_uri": "https://localhost:8080/"
        },
        "id": "Z3F2TJZgQ1FV",
        "outputId": "6239f608-0dd4-43da-d0e6-7edfce950af3"
      },
      "execution_count": 11,
      "outputs": [
        {
          "output_type": "stream",
          "name": "stdout",
          "text": [
            "Writing reactionary.py\n"
          ]
        }
      ]
    },
    {
      "cell_type": "code",
      "source": [
        "%%writefile counter_reactionary.py\n",
        "import random\n",
        "from utils import get_score\n",
        "\n",
        "last_counter_action = None\n",
        "def counter_reactionary(observation, configuration):\n",
        "    global last_counter_action\n",
        "    if observation.step == 0:\n",
        "        last_counter_action = random.randrange(0, configuration.signs)\n",
        "    elif get_score(last_counter_action, observation.lastOpponentAction) == 1:\n",
        "        last_counter_action = (last_counter_action + 2) % configuration.signs\n",
        "    else:\n",
        "        last_counter_action = (observation.lastOpponentAction + 1) % configuration.signs\n",
        "\n",
        "    return last_counter_action"
      ],
      "metadata": {
        "colab": {
          "base_uri": "https://localhost:8080/"
        },
        "id": "nPkyqEbOXRWP",
        "outputId": "bfcdd707-19a7-47a9-d375-7b9a6d4dc3a3"
      },
      "execution_count": 12,
      "outputs": [
        {
          "output_type": "stream",
          "name": "stdout",
          "text": [
            "Writing counter_reactionary.py\n"
          ]
        }
      ]
    },
    {
      "cell_type": "code",
      "source": [
        "%%writefile statistical.py\n",
        "import random\n",
        "from utils import get_score \n",
        "\n",
        "def statistical(observation, configuration):\n",
        "    global action_histogram\n",
        "    if observation.step == 0:\n",
        "        action_histogram = {}\n",
        "        return\n",
        "    action = observation.lastOpponentAction\n",
        "    if action not in action_histogram:\n",
        "        action_histogram[action] = 0\n",
        "    action_histogram[action] += 1\n",
        "    mode_action = None\n",
        "    mode_action_count = None\n",
        "    for k, v in action_histogram.items():\n",
        "        if mode_action_count is None or v > mode_action_count:\n",
        "            mode_action = k\n",
        "            mode_action_count = v\n",
        "            continue\n",
        "\n",
        "    return (mode_action + 1) % configuration.signs"
      ],
      "metadata": {
        "colab": {
          "base_uri": "https://localhost:8080/"
        },
        "id": "BmsL07zzbF2u",
        "outputId": "849b63d9-dffc-446e-90f2-93595ba093cc"
      },
      "execution_count": 13,
      "outputs": [
        {
          "output_type": "stream",
          "name": "stdout",
          "text": [
            "Writing statistical.py\n"
          ]
        }
      ]
    },
    {
      "cell_type": "code",
      "source": [
        "%%writefile repeat_agent.py\n",
        "import random\n",
        "from utils import get_score\n",
        "\n",
        "last_react_action = None\n",
        "def repeat(observation, configuration):\n",
        "    global last_react_action\n",
        "    if observation.step == 0:\n",
        "        last_react_action = random.randrange(0, 2)\n",
        "    elif get_score(last_react_action, observation.lastOpponentAction) <= 1:\n",
        "        last_react_action = (observation.lastOpponentAction + 1) % configuration.signs\n",
        "\n",
        "    return last_react_action\n"
      ],
      "metadata": {
        "colab": {
          "base_uri": "https://localhost:8080/"
        },
        "id": "iVMkXLcPPD0L",
        "outputId": "2213aac5-d477-4f2f-e34b-497b53287315"
      },
      "execution_count": 14,
      "outputs": [
        {
          "output_type": "stream",
          "name": "stdout",
          "text": [
            "Writing repeat_agent.py\n"
          ]
        }
      ]
    },
    {
      "cell_type": "code",
      "source": [
        "%%writefile repeat2_agent.py\n",
        "import random\n",
        "from utils import get_score\n",
        "\n",
        "last_react_action = None\n",
        "def repeat2(observation, configuration):\n",
        "    global last_react_action\n",
        "    if observation.step == 0:\n",
        "        last_react_action = random.randrange(1, 2)\n",
        "    elif get_score(last_react_action, observation.lastOpponentAction) <= 1:\n",
        "        last_react_action = (observation.lastOpponentAction + 1) % configuration.signs\n",
        "\n",
        "    return last_react_action\n"
      ],
      "metadata": {
        "colab": {
          "base_uri": "https://localhost:8080/"
        },
        "id": "AsM2iKMQjAbz",
        "outputId": "58eee83e-da71-4afb-8d9e-1ea50b4235b1"
      },
      "execution_count": 35,
      "outputs": [
        {
          "output_type": "stream",
          "name": "stdout",
          "text": [
            "Overwriting repeat2_agent.py\n"
          ]
        }
      ]
    },
    {
      "cell_type": "code",
      "source": [
        "%%writefile my_agent.py\n",
        "import random\n",
        "from utils import get_score\n",
        "\n",
        "last_react_action = None\n",
        "def my_agent(observation, configuration):\n",
        "    global last_react_action\n",
        "    if observation.step == 0:\n",
        "        last_react_action = 2\n",
        "    elif get_score(last_react_action, observation.lastOpponentAction) == 1:\n",
        "        last_react_action = (observation.lastOpponentAction + 1) % configuration.signs\n",
        "    elif get_score(last_react_action, observation.lastOpponentAction) == 2:\n",
        "        last_react_action = (observation.lastOpponentAction + 1) % configuration.signs\n",
        "    return last_react_action\n"
      ],
      "metadata": {
        "id": "GFWvdRl2i6EO",
        "outputId": "dd6601f1-9499-4535-9602-09e815a2668c",
        "colab": {
          "base_uri": "https://localhost:8080/"
        }
      },
      "execution_count": 67,
      "outputs": [
        {
          "output_type": "stream",
          "name": "stdout",
          "text": [
            "Overwriting my_agent.py\n"
          ]
        }
      ]
    },
    {
      "cell_type": "markdown",
      "source": [
        "Воспользуемся функцией evaluate из библиотеки kaggle_environments с помощью которой запустим наших агентов и проведем эксперимент на заданном количестве игр"
      ],
      "metadata": {
        "id": "ExgIpXUVjbjN"
      }
    },
    {
      "cell_type": "code",
      "source": [
        "lst = [\"submission.py\", \"submission2.py\", \"submission3.py\", \"copy_opponent.py\", \"scissors_agent.py\", \"counter_reactionary.py\", \n",
        "       \"reactionary.py\", \"paper_agent.py\", \"rock_agent.py\", \"statistical.py\", \"repeat_agent.py\", \"my_agent.py\"]\n",
        "#lst = [\"submission\", \"copy_opponent\", \"scissors_agent\", \"counter_reactionary\", \"reactionary\", \"paper_agent\", \"rock_agent\"]"
      ],
      "metadata": {
        "id": "c8dWvLvXJY5A"
      },
      "execution_count": 29,
      "outputs": []
    },
    {
      "cell_type": "code",
      "source": [
        "dict_win = {\"submission.py\": [0, 0, 0], \"submission2.py\": [0, 0, 0], \"submission3.py\":[0, 0, 0],\"copy_opponent.py\": [0, 0, 0], \"scissors_agent.py\": [0, 0, 0],\n",
        "        \"counter_reactionary.py\": [0, 0, 0], \"reactionary.py\": [0, 0, 0], \"paper_agent.py\": [0, 0, 0], \"rock_agent.py\": [0, 0, 0],\n",
        "         \"statistical.py\": [0, 0, 0], \"repeat_agent.py\": [0, 0, 0], \"my_agent.py\": [0, 0, 0]}\n",
        "\n",
        "np.rps = []\n",
        "for i in range(len(lst)):\n",
        "  np.rps_row = []\n",
        "  a = 0\n",
        "  for j in range(len(lst)):\n",
        "    one_set = []\n",
        "    one_set = evaluate(\n",
        "      \"rps\", #environment to use - no need to change\n",
        "      [lst[i], lst[j]], #agents to evaluate\n",
        "      configuration={\"episodeSteps\": 10, 'tieRewardThreshold': 1} #number of episodes \n",
        "    )\n",
        "    np.rps_row += one_set\n",
        "    #print(one_set)\n",
        "    if one_set[0][0] > one_set[0][1]:\n",
        "      dict_win[lst[i]][0] += 1\n",
        "    elif one_set[0][0] < one_set[0][1]:\n",
        "      dict_win[lst[i]][1] += 1\n",
        "    else:\n",
        "      dict_win[lst[i]][2] += 1\n",
        "    \n",
        "  np.rps.append(np.rps_row)"
      ],
      "metadata": {
        "id": "Vm52c3I9U5Mb"
      },
      "execution_count": 70,
      "outputs": []
    },
    {
      "cell_type": "code",
      "source": [
        "colName = [\"Побед\", \"Поражний\", \"Ничьих\"]\n",
        "df = pd.DataFrame.from_dict(dict_win, orient='index', columns=colName)\n",
        "df = df.sort_values(\"Побед\",ascending = False)\n",
        "df"
      ],
      "metadata": {
        "colab": {
          "base_uri": "https://localhost:8080/",
          "height": 426
        },
        "id": "ZQS-_3giquqE",
        "outputId": "98defefb-f29a-48ec-bb37-6dce61c8b074"
      },
      "execution_count": 71,
      "outputs": [
        {
          "output_type": "execute_result",
          "data": {
            "text/plain": [
              "                        Побед  Поражний  Ничьих\n",
              "reactionary.py             10         0       2\n",
              "counter_reactionary.py      8         3       1\n",
              "repeat_agent.py             8         1       3\n",
              "statistical.py              7         4       1\n",
              "submission.py               6         4       2\n",
              "copy_opponent.py            5         4       3\n",
              "submission2.py              4         6       2\n",
              "scissors_agent.py           4         5       3\n",
              "my_agent.py                 4         5       3\n",
              "submission3.py              3         6       3\n",
              "paper_agent.py              3         8       1\n",
              "rock_agent.py               3         7       2"
            ],
            "text/html": [
              "\n",
              "  <div id=\"df-5ca64803-6ca9-4ffe-9d25-019c6c1aaf9e\">\n",
              "    <div class=\"colab-df-container\">\n",
              "      <div>\n",
              "<style scoped>\n",
              "    .dataframe tbody tr th:only-of-type {\n",
              "        vertical-align: middle;\n",
              "    }\n",
              "\n",
              "    .dataframe tbody tr th {\n",
              "        vertical-align: top;\n",
              "    }\n",
              "\n",
              "    .dataframe thead th {\n",
              "        text-align: right;\n",
              "    }\n",
              "</style>\n",
              "<table border=\"1\" class=\"dataframe\">\n",
              "  <thead>\n",
              "    <tr style=\"text-align: right;\">\n",
              "      <th></th>\n",
              "      <th>Побед</th>\n",
              "      <th>Поражний</th>\n",
              "      <th>Ничьих</th>\n",
              "    </tr>\n",
              "  </thead>\n",
              "  <tbody>\n",
              "    <tr>\n",
              "      <th>reactionary.py</th>\n",
              "      <td>10</td>\n",
              "      <td>0</td>\n",
              "      <td>2</td>\n",
              "    </tr>\n",
              "    <tr>\n",
              "      <th>counter_reactionary.py</th>\n",
              "      <td>8</td>\n",
              "      <td>3</td>\n",
              "      <td>1</td>\n",
              "    </tr>\n",
              "    <tr>\n",
              "      <th>repeat_agent.py</th>\n",
              "      <td>8</td>\n",
              "      <td>1</td>\n",
              "      <td>3</td>\n",
              "    </tr>\n",
              "    <tr>\n",
              "      <th>statistical.py</th>\n",
              "      <td>7</td>\n",
              "      <td>4</td>\n",
              "      <td>1</td>\n",
              "    </tr>\n",
              "    <tr>\n",
              "      <th>submission.py</th>\n",
              "      <td>6</td>\n",
              "      <td>4</td>\n",
              "      <td>2</td>\n",
              "    </tr>\n",
              "    <tr>\n",
              "      <th>copy_opponent.py</th>\n",
              "      <td>5</td>\n",
              "      <td>4</td>\n",
              "      <td>3</td>\n",
              "    </tr>\n",
              "    <tr>\n",
              "      <th>submission2.py</th>\n",
              "      <td>4</td>\n",
              "      <td>6</td>\n",
              "      <td>2</td>\n",
              "    </tr>\n",
              "    <tr>\n",
              "      <th>scissors_agent.py</th>\n",
              "      <td>4</td>\n",
              "      <td>5</td>\n",
              "      <td>3</td>\n",
              "    </tr>\n",
              "    <tr>\n",
              "      <th>my_agent.py</th>\n",
              "      <td>4</td>\n",
              "      <td>5</td>\n",
              "      <td>3</td>\n",
              "    </tr>\n",
              "    <tr>\n",
              "      <th>submission3.py</th>\n",
              "      <td>3</td>\n",
              "      <td>6</td>\n",
              "      <td>3</td>\n",
              "    </tr>\n",
              "    <tr>\n",
              "      <th>paper_agent.py</th>\n",
              "      <td>3</td>\n",
              "      <td>8</td>\n",
              "      <td>1</td>\n",
              "    </tr>\n",
              "    <tr>\n",
              "      <th>rock_agent.py</th>\n",
              "      <td>3</td>\n",
              "      <td>7</td>\n",
              "      <td>2</td>\n",
              "    </tr>\n",
              "  </tbody>\n",
              "</table>\n",
              "</div>\n",
              "      <button class=\"colab-df-convert\" onclick=\"convertToInteractive('df-5ca64803-6ca9-4ffe-9d25-019c6c1aaf9e')\"\n",
              "              title=\"Convert this dataframe to an interactive table.\"\n",
              "              style=\"display:none;\">\n",
              "        \n",
              "  <svg xmlns=\"http://www.w3.org/2000/svg\" height=\"24px\"viewBox=\"0 0 24 24\"\n",
              "       width=\"24px\">\n",
              "    <path d=\"M0 0h24v24H0V0z\" fill=\"none\"/>\n",
              "    <path d=\"M18.56 5.44l.94 2.06.94-2.06 2.06-.94-2.06-.94-.94-2.06-.94 2.06-2.06.94zm-11 1L8.5 8.5l.94-2.06 2.06-.94-2.06-.94L8.5 2.5l-.94 2.06-2.06.94zm10 10l.94 2.06.94-2.06 2.06-.94-2.06-.94-.94-2.06-.94 2.06-2.06.94z\"/><path d=\"M17.41 7.96l-1.37-1.37c-.4-.4-.92-.59-1.43-.59-.52 0-1.04.2-1.43.59L10.3 9.45l-7.72 7.72c-.78.78-.78 2.05 0 2.83L4 21.41c.39.39.9.59 1.41.59.51 0 1.02-.2 1.41-.59l7.78-7.78 2.81-2.81c.8-.78.8-2.07 0-2.86zM5.41 20L4 18.59l7.72-7.72 1.47 1.35L5.41 20z\"/>\n",
              "  </svg>\n",
              "      </button>\n",
              "      \n",
              "  <style>\n",
              "    .colab-df-container {\n",
              "      display:flex;\n",
              "      flex-wrap:wrap;\n",
              "      gap: 12px;\n",
              "    }\n",
              "\n",
              "    .colab-df-convert {\n",
              "      background-color: #E8F0FE;\n",
              "      border: none;\n",
              "      border-radius: 50%;\n",
              "      cursor: pointer;\n",
              "      display: none;\n",
              "      fill: #1967D2;\n",
              "      height: 32px;\n",
              "      padding: 0 0 0 0;\n",
              "      width: 32px;\n",
              "    }\n",
              "\n",
              "    .colab-df-convert:hover {\n",
              "      background-color: #E2EBFA;\n",
              "      box-shadow: 0px 1px 2px rgba(60, 64, 67, 0.3), 0px 1px 3px 1px rgba(60, 64, 67, 0.15);\n",
              "      fill: #174EA6;\n",
              "    }\n",
              "\n",
              "    [theme=dark] .colab-df-convert {\n",
              "      background-color: #3B4455;\n",
              "      fill: #D2E3FC;\n",
              "    }\n",
              "\n",
              "    [theme=dark] .colab-df-convert:hover {\n",
              "      background-color: #434B5C;\n",
              "      box-shadow: 0px 1px 3px 1px rgba(0, 0, 0, 0.15);\n",
              "      filter: drop-shadow(0px 1px 2px rgba(0, 0, 0, 0.3));\n",
              "      fill: #FFFFFF;\n",
              "    }\n",
              "  </style>\n",
              "\n",
              "      <script>\n",
              "        const buttonEl =\n",
              "          document.querySelector('#df-5ca64803-6ca9-4ffe-9d25-019c6c1aaf9e button.colab-df-convert');\n",
              "        buttonEl.style.display =\n",
              "          google.colab.kernel.accessAllowed ? 'block' : 'none';\n",
              "\n",
              "        async function convertToInteractive(key) {\n",
              "          const element = document.querySelector('#df-5ca64803-6ca9-4ffe-9d25-019c6c1aaf9e');\n",
              "          const dataTable =\n",
              "            await google.colab.kernel.invokeFunction('convertToInteractive',\n",
              "                                                     [key], {});\n",
              "          if (!dataTable) return;\n",
              "\n",
              "          const docLinkHtml = 'Like what you see? Visit the ' +\n",
              "            '<a target=\"_blank\" href=https://colab.research.google.com/notebooks/data_table.ipynb>data table notebook</a>'\n",
              "            + ' to learn more about interactive tables.';\n",
              "          element.innerHTML = '';\n",
              "          dataTable['output_type'] = 'display_data';\n",
              "          await google.colab.output.renderOutput(dataTable, element);\n",
              "          const docLink = document.createElement('div');\n",
              "          docLink.innerHTML = docLinkHtml;\n",
              "          element.appendChild(docLink);\n",
              "        }\n",
              "      </script>\n",
              "    </div>\n",
              "  </div>\n",
              "  "
            ]
          },
          "metadata": {},
          "execution_count": 71
        }
      ]
    },
    {
      "cell_type": "code",
      "source": [
        "from operator import index\n",
        "import seaborn as sns\n",
        "\n",
        "fig, ax = plt.subplots()\n",
        "\n",
        "# Hide axes\n",
        "ax.xaxis.set_visible(False)\n",
        "ax.yaxis.set_visible(False)\n",
        "# Table from Ed Smith answer\n",
        "clust_data = np.rps\n",
        "collabel=(lst)\n",
        "rowlabel=(lst)\n",
        "\n",
        "the_table = ax.table(cellText=clust_data,colLabels=collabel, rowLabels=rowlabel, loc='center')\n",
        "the_table.auto_set_font_size(False)\n",
        "the_table.set_fontsize(5)\n",
        "plt.figure(figsize=(40, 40))\n",
        "plt.show()"
      ],
      "metadata": {
        "colab": {
          "base_uri": "https://localhost:8080/",
          "height": 270
        },
        "id": "OfklBDCGkIf9",
        "outputId": "11b3e98b-49ba-4cf3-f762-7c77eea91809"
      },
      "execution_count": 72,
      "outputs": [
        {
          "output_type": "display_data",
          "data": {
            "text/plain": [
              "<Figure size 432x288 with 1 Axes>"
            ],
            "image/png": "[encoded data removed]"
          },
          "metadata": {
            "needs_background": "light"
          }
        },
        {
          "output_type": "display_data",
          "data": {
            "text/plain": [
              "<Figure size 2880x2880 with 0 Axes>"
            ]
          },
          "metadata": {}
        }
      ]
    },
    {
      "cell_type": "code",
      "source": [
        "df1 = df\n",
        "for i in df1.index:\n",
        "    df1[\"Агент\"] = df1.index\n",
        "\n",
        "sns.barplot(\n",
        "    x='Побед', \n",
        "    y=df1.index, \n",
        "    #hue=\"Побед\",\n",
        "    ci=90,\n",
        "    color='Red',\n",
        "    saturation=1,\n",
        "    dodge= False, \n",
        "    data=df1\n",
        ")"
      ],
      "metadata": {
        "colab": {
          "base_uri": "https://localhost:8080/",
          "height": 297
        },
        "id": "CQn9b2jEc6_T",
        "outputId": "7f9c17cd-2558-4895-dd63-6bcecf7d9502"
      },
      "execution_count": 73,
      "outputs": [
        {
          "output_type": "execute_result",
          "data": {
            "text/plain": [
              "<matplotlib.axes._subplots.AxesSubplot at 0x7f2d44cecf10>"
            ]
          },
          "metadata": {},
          "execution_count": 73
        },
        {
          "output_type": "display_data",
          "data": {
            "text/plain": [
              "<Figure size 432x288 with 1 Axes>"
            ],
            "image/png": "[encoded data removed]"
          },
          "metadata": {
            "needs_background": "light"
          }
        }
      ]
    },
    {
      "cell_type": "code",
      "source": [
        "df1.plot.barh(stacked=True, alpha=0.8)"
      ],
      "metadata": {
        "colab": {
          "base_uri": "https://localhost:8080/",
          "height": 283
        },
        "id": "lDd20jfWosod",
        "outputId": "f6c40807-3d3a-49db-8269-9dd8f6a208b0"
      },
      "execution_count": 74,
      "outputs": [
        {
          "output_type": "execute_result",
          "data": {
            "text/plain": [
              "<matplotlib.axes._subplots.AxesSubplot at 0x7f2d44ffe690>"
            ]
          },
          "metadata": {},
          "execution_count": 74
        },
        {
          "output_type": "display_data",
          "data": {
            "text/plain": [
              "<Figure size 432x288 with 1 Axes>"
            ],
            "image/png": "[encoded data removed]"
          },
          "metadata": {
            "needs_background": "light"
          }
        }
      ]
    }
  ]
}